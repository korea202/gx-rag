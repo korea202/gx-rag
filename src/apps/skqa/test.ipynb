{
 "cells": [
  {
   "cell_type": "code",
   "execution_count": null,
   "id": "cadde641",
   "metadata": {},
   "outputs": [],
   "source": [
    "# 임베딩 테스트를 위한 예시 문장\n",
    "short_sentences = [\n",
    "    \"겨울에는 따뜻한 옷을 입는다.\",\n",
    "    \"추운날은 두꺼운 외투가 필요하다.\",\n",
    "    \"인공지능은 기술 발전의 부산물이다.\",\n",
    "    \"AI는 인류에게 유용한 기술이다.\",\n",
    "    \"AI는 인류에게 쓸모없는 기술이다.\",\n",
    "    \"패스트캠퍼스 강의는 유용하다.\",\n",
    "]\n",
    "\n",
    "long_sentences = [\n",
    "    \"겨울이 되면 눈이 내려서 거리가 하얗게 변하고 사람들은 따뜻한 옷을 입는다.\",\n",
    "    \"하얀 눈이 내리면서 도시가 은빛 세상으로 변하고, 사람들은 두꺼운 외투를 입는다.\",\n",
    "    \"인공지능은 과학 기술의 진보, 데이터 처리 능력의 향상, 그리고 복잡한 문제 해결을 위한 새로운 접근 방식의 필요성이 결합된 결과이다.\",\n",
    "    \"인공지능은 단순히 기술의 발전을 넘어서 인류의 삶을 개선하고, 더 나은 미래를 구축하는 데 필수적인 역할을 하고 있다.\",\n",
    "    \"인공지능은 인류에게 잠재적인 위험 요소를 내포하는 기술로, 그 사용과 발전에 있어 신중한 접근이 필요하다.\",\n",
    "    \"패스트캠퍼스의 강의는 실무 중심의 커리큘럼을 제공하여, 현업에서 바로 활용할 수 있는 실용적인 지식과 기술을 습득할 수 있다\"\n",
    "]\n",
    "\n",
    "all_sentences = short_sentences + long_sentences\n",
    "\n",
    "all_sentences"
   ]
  },
  {
   "cell_type": "code",
   "execution_count": null,
   "id": "db6fda1b",
   "metadata": {},
   "outputs": [],
   "source": [
    "# 시각화를 위한 라이브러리 import\n",
    "import matplotlib.pyplot as plt\n",
    "import seaborn as sns"
   ]
  },
  {
   "cell_type": "code",
   "execution_count": null,
   "id": "5f63cb11",
   "metadata": {},
   "outputs": [],
   "source": [
    "# Sentence Transformer를 통해 모델을 로드하고 문장들을 벡터로 인코딩합니다\n",
    "from sentence_transformers import SentenceTransformer, util\n",
    "\n",
    "model = SentenceTransformer(\"BAAI/bge-m3\")\n",
    "sb_vectors = model.encode(all_sentences)\n",
    "\n",
    "# 문장 벡터들 간의 코사인 유사도를 계산합니다\n",
    "sb_short_similarities = util.cos_sim(sb_vectors[:6], sb_vectors[:6])\n",
    "sb_long_similarities = util.cos_sim(sb_vectors[6:], sb_vectors[6:])\n",
    "sb_similarities = util.cos_sim(sb_vectors, sb_vectors)"
   ]
  },
  {
   "cell_type": "code",
   "execution_count": null,
   "id": "dd1b643f",
   "metadata": {},
   "outputs": [],
   "source": [
    "# 유사도 행렬의 히트맵을 시각화합니다 (short sentences)\n",
    "plt.figure(figsize=(10, 8))\n",
    "sns.heatmap(sb_short_similarities, annot=True, cmap='coolwarm')\n",
    "plt.title(\"Sentence BERT Sentence Embedding Similarity Heatmap\")\n",
    "plt.xlabel(\"Sentence Index\")\n",
    "plt.ylabel(\"Sentence Index\")\n",
    "plt.show()"
   ]
  },
  {
   "cell_type": "code",
   "execution_count": null,
   "id": "907ad258",
   "metadata": {},
   "outputs": [],
   "source": [
    "import torch\n",
    "import gc\n",
    "import ctypes\n",
    "\n",
    "def force_memory_cleanup():\n",
    "    \"\"\"강력한 메모리 정리\"\"\"\n",
    "    # Python 가비지 컬렉션\n",
    "    gc.collect()\n",
    "    \n",
    "    # PyTorch CUDA 캐시 정리\n",
    "    if torch.cuda.is_available():\n",
    "        torch.cuda.empty_cache()\n",
    "        torch.cuda.ipc_collect()\n",
    "        torch.cuda.synchronize()\n",
    "    \n",
    "    # 시스템 메모리 압축 (Linux)\n",
    "    try:\n",
    "        with open('/proc/sys/vm/drop_caches', 'w') as f:\n",
    "            f.write('3')  # 모든 캐시 삭제 (root 권한 필요)\n",
    "    except:\n",
    "        pass\n",
    "    \n",
    "    print(\"메모리 정리 시도 완료\")\n",
    "\n",
    "# 실행\n",
    "force_memory_cleanup()"
   ]
  },
  {
   "cell_type": "code",
   "execution_count": null,
   "id": "f58498c2",
   "metadata": {},
   "outputs": [],
   "source": [
    "import torch\n",
    "print(torch._C._GLIBCXX_USE_CXX11_ABI)"
   ]
  }
 ],
 "metadata": {
  "kernelspec": {
   "display_name": "gx-rag (3.11.13)",
   "language": "python",
   "name": "python3"
  },
  "language_info": {
   "codemirror_mode": {
    "name": "ipython",
    "version": 3
   },
   "file_extension": ".py",
   "mimetype": "text/x-python",
   "name": "python",
   "nbconvert_exporter": "python",
   "pygments_lexer": "ipython3",
   "version": "3.11.13"
  }
 },
 "nbformat": 4,
 "nbformat_minor": 5
}
