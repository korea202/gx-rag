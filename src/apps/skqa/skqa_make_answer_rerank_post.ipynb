{
 "cells": [
  {
   "cell_type": "code",
   "execution_count": null,
   "id": "1cf576d1",
   "metadata": {},
   "outputs": [],
   "source": [
    "import pickle\n",
    "with open('./data/all_data.pkl', 'rb') as f:\n",
    "    loaded_data = pickle.load(f)\n",
    "#print(loaded_data) \n",
    "print(loaded_data[0])\n"
   ]
  },
  {
   "cell_type": "code",
   "execution_count": null,
   "id": "81d76b08",
   "metadata": {},
   "outputs": [],
   "source": [
    "# 리스트 불러오기\n",
    "import pickle\n",
    "import json\n",
    "\n",
    "from FlagEmbedding import FlagLLMReranker\n",
    "\n",
    "def reranking(data):\n",
    "\n",
    "    #reranker = FlagLLMReranker('BAAI/bge-reranker-v2-gemma', use_fp16=True)\n",
    "    reranker = FlagLLMReranker('Qwen/Qwen3-Reranker-8B', use_fp16=True, batch_size=1, max_length=4096)\n",
    "\n",
    "    message = data[\"message\"]\n",
    "    references = data[\"references\"]\n",
    "    pairs = [[message, doc['content']] for doc in references]\n",
    "    rerank_scores = reranker.compute_score(pairs)\n",
    "\n",
    "    print(\"*\"*50)\n",
    "    print(pairs)\n",
    "    print(references)\n",
    "    print(rerank_scores)\n",
    "\n",
    "\n",
    "    results = list(zip(references, rerank_scores))\n",
    "    results.sort(key=lambda x: x[1], reverse=True) \n",
    "    final_result = results[:3]\n",
    "    print(f\"final_result={final_result}\")\n",
    "\n",
    "    data['topk'] = [ doc['docid'] for doc, socre in final_result]\n",
    "    data[\"references\"] = [ {\"score\": float(score), \"content\": doc['content']} for doc, score in final_result ]\n",
    "\n",
    "    return data\n",
    "\n",
    "\n",
    "with open(\"./data/sample_submission.csv\", \"w\") as of:\n",
    "        idx = 0\n",
    "        for data in loaded_data:\n",
    "            print(f\"data={data}\")\n",
    "            if len(data[\"topk\"]) > 0:\n",
    "                response = reranking(data)\n",
    "\n",
    "            print(f'response: {response}\\n')\n",
    "\n",
    "            # 대회 score 계산은 topk 정보를 사용, answer 정보는 LLM을 통한 자동평가시 활용\n",
    "            output = {\"eval_id\": response[\"eval_id\"], \"standalone_query\": response[\"standalone_query\"], \"topk\": response[\"topk\"], \"answer\": response[\"answer\"], \"references\": response[\"references\"]}\n",
    "            print(output)\n",
    "            of.write(f'{json.dumps(output, ensure_ascii=False)}\\n')\n",
    "            idx += 1     "
   ]
  }
 ],
 "metadata": {
  "kernelspec": {
   "display_name": "gx-rag (3.11.13)",
   "language": "python",
   "name": "python3"
  },
  "language_info": {
   "codemirror_mode": {
    "name": "ipython",
    "version": 3
   },
   "file_extension": ".py",
   "mimetype": "text/x-python",
   "name": "python",
   "nbconvert_exporter": "python",
   "pygments_lexer": "ipython3",
   "version": "3.11.13"
  }
 },
 "nbformat": 4,
 "nbformat_minor": 5
}
